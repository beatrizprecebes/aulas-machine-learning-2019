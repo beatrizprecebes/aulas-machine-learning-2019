{
 "cells": [
  {
   "cell_type": "markdown",
   "metadata": {},
   "source": [
    "# Perceptron\n",
    "\n",
    "### Versão modificada, comentada e com análise de dados"
   ]
  },
  {
   "cell_type": "code",
   "execution_count": 1,
   "metadata": {},
   "outputs": [],
   "source": [
    "%matplotlib inline\n",
    "import pandas as pd\n",
    "import numpy as np"
   ]
  },
  {
   "cell_type": "code",
   "execution_count": 2,
   "metadata": {},
   "outputs": [],
   "source": [
    "class Perceptron(object):\n",
    "    \"\"\"Perceptron classifier.\n",
    "\n",
    "    Parameters\n",
    "    ------------\n",
    "    eta : float\n",
    "      Learning rate (between 0.0 and 1.0)\n",
    "    n_iter : int\n",
    "      Passes over the training dataset.\n",
    "    random_state : int\n",
    "      Random number generator seed for random weight\n",
    "      initialization.\n",
    "\n",
    "    Attributes\n",
    "    -----------\n",
    "    w_ : 1d-array\n",
    "      Weights after fitting.\n",
    "    errors_ : list\n",
    "      Number of misclassifications (updates) in each epoch.\n",
    "\n",
    "    \"\"\"\n",
    "    def __init__(self, eta=0.01, n_iter=50, random_state=1):\n",
    "        self.eta = eta\n",
    "        self.n_iter = n_iter\n",
    "        self.random_state = random_state\n",
    "\n",
    "    def fit(self, X, y):\n",
    "        \"\"\"Fit training data.\n",
    "\n",
    "        Parameters\n",
    "        ----------\n",
    "        X : {array-like}, shape = [n_samples, n_features]\n",
    "          Training vectors, where n_samples is the number of samples and\n",
    "          n_features is the number of features.\n",
    "        y : array-like, shape = [n_samples]\n",
    "          Target values.\n",
    "\n",
    "        Returns\n",
    "        -------\n",
    "        self : object\n",
    "\n",
    "        \"\"\"\n",
    "        rgen = np.random.RandomState(self.random_state)\n",
    "        self.w_ = rgen.normal(loc=0.0, scale=0.01, size=1 + X.shape[1])\n",
    "        self.errors_ = []\n",
    "\n",
    "        for _ in range(self.n_iter):\n",
    "            errors = 0\n",
    "            for xi, target in zip(X, y):\n",
    "                update = self.eta * (target - self.predict(xi))\n",
    "                self.w_[1:] += update * xi\n",
    "                self.w_[0] += update\n",
    "                errors += int(update != 0.0)\n",
    "            self.errors_.append(errors)\n",
    "        return self\n",
    "\n",
    "    def net_input(self, X):\n",
    "        \"\"\"Calculate net input\"\"\"\n",
    "        return np.dot(X, self.w_[1:]) + self.w_[0]\n",
    "\n",
    "    def predict(self, X):\n",
    "        \"\"\"Return class label after unit step\"\"\"\n",
    "        return np.where(self.net_input(X) >= 0.0, 1, -1)"
   ]
  },
  {
   "cell_type": "code",
   "execution_count": 3,
   "metadata": {},
   "outputs": [],
   "source": [
    "cols = ['sepal_length', 'sepal_width', 'petal_length', 'petal_width', 'label']\n",
    "df = pd.read_csv('iris-dataset.csv', names=cols)"
   ]
  },
  {
   "cell_type": "code",
   "execution_count": 4,
   "metadata": {},
   "outputs": [
    {
     "data": {
      "text/html": [
       "<div>\n",
       "<style scoped>\n",
       "    .dataframe tbody tr th:only-of-type {\n",
       "        vertical-align: middle;\n",
       "    }\n",
       "\n",
       "    .dataframe tbody tr th {\n",
       "        vertical-align: top;\n",
       "    }\n",
       "\n",
       "    .dataframe thead th {\n",
       "        text-align: right;\n",
       "    }\n",
       "</style>\n",
       "<table border=\"1\" class=\"dataframe\">\n",
       "  <thead>\n",
       "    <tr style=\"text-align: right;\">\n",
       "      <th></th>\n",
       "      <th>sepal_length</th>\n",
       "      <th>sepal_width</th>\n",
       "      <th>petal_length</th>\n",
       "      <th>petal_width</th>\n",
       "      <th>label</th>\n",
       "    </tr>\n",
       "  </thead>\n",
       "  <tbody>\n",
       "    <tr>\n",
       "      <th>0</th>\n",
       "      <td>5.1</td>\n",
       "      <td>3.5</td>\n",
       "      <td>1.4</td>\n",
       "      <td>0.2</td>\n",
       "      <td>setosa</td>\n",
       "    </tr>\n",
       "    <tr>\n",
       "      <th>1</th>\n",
       "      <td>4.9</td>\n",
       "      <td>3.0</td>\n",
       "      <td>1.4</td>\n",
       "      <td>0.2</td>\n",
       "      <td>setosa</td>\n",
       "    </tr>\n",
       "    <tr>\n",
       "      <th>2</th>\n",
       "      <td>4.7</td>\n",
       "      <td>3.2</td>\n",
       "      <td>1.3</td>\n",
       "      <td>0.2</td>\n",
       "      <td>setosa</td>\n",
       "    </tr>\n",
       "    <tr>\n",
       "      <th>3</th>\n",
       "      <td>4.6</td>\n",
       "      <td>3.1</td>\n",
       "      <td>1.5</td>\n",
       "      <td>0.2</td>\n",
       "      <td>setosa</td>\n",
       "    </tr>\n",
       "    <tr>\n",
       "      <th>4</th>\n",
       "      <td>5.0</td>\n",
       "      <td>3.6</td>\n",
       "      <td>1.4</td>\n",
       "      <td>0.2</td>\n",
       "      <td>setosa</td>\n",
       "    </tr>\n",
       "  </tbody>\n",
       "</table>\n",
       "</div>"
      ],
      "text/plain": [
       "   sepal_length  sepal_width  petal_length  petal_width   label\n",
       "0           5.1          3.5           1.4          0.2  setosa\n",
       "1           4.9          3.0           1.4          0.2  setosa\n",
       "2           4.7          3.2           1.3          0.2  setosa\n",
       "3           4.6          3.1           1.5          0.2  setosa\n",
       "4           5.0          3.6           1.4          0.2  setosa"
      ]
     },
     "execution_count": 4,
     "metadata": {},
     "output_type": "execute_result"
    }
   ],
   "source": [
    "df.head()"
   ]
  },
  {
   "cell_type": "code",
   "execution_count": 5,
   "metadata": {},
   "outputs": [
    {
     "name": "stdout",
     "output_type": "stream",
     "text": [
      "<class 'pandas.core.frame.DataFrame'>\n",
      "RangeIndex: 150 entries, 0 to 149\n",
      "Data columns (total 5 columns):\n",
      "sepal_length    150 non-null float64\n",
      "sepal_width     150 non-null float64\n",
      "petal_length    150 non-null float64\n",
      "petal_width     150 non-null float64\n",
      "label           150 non-null object\n",
      "dtypes: float64(4), object(1)\n",
      "memory usage: 5.9+ KB\n"
     ]
    }
   ],
   "source": [
    "df.info()"
   ]
  },
  {
   "cell_type": "code",
   "execution_count": 6,
   "metadata": {},
   "outputs": [
    {
     "data": {
      "text/html": [
       "<div>\n",
       "<style scoped>\n",
       "    .dataframe tbody tr th:only-of-type {\n",
       "        vertical-align: middle;\n",
       "    }\n",
       "\n",
       "    .dataframe tbody tr th {\n",
       "        vertical-align: top;\n",
       "    }\n",
       "\n",
       "    .dataframe thead th {\n",
       "        text-align: right;\n",
       "    }\n",
       "</style>\n",
       "<table border=\"1\" class=\"dataframe\">\n",
       "  <thead>\n",
       "    <tr style=\"text-align: right;\">\n",
       "      <th></th>\n",
       "      <th>sepal_length</th>\n",
       "      <th>sepal_width</th>\n",
       "      <th>petal_length</th>\n",
       "      <th>petal_width</th>\n",
       "    </tr>\n",
       "  </thead>\n",
       "  <tbody>\n",
       "    <tr>\n",
       "      <th>count</th>\n",
       "      <td>150.000000</td>\n",
       "      <td>150.000000</td>\n",
       "      <td>150.000000</td>\n",
       "      <td>150.000000</td>\n",
       "    </tr>\n",
       "    <tr>\n",
       "      <th>mean</th>\n",
       "      <td>5.843333</td>\n",
       "      <td>3.054000</td>\n",
       "      <td>3.758667</td>\n",
       "      <td>1.198667</td>\n",
       "    </tr>\n",
       "    <tr>\n",
       "      <th>std</th>\n",
       "      <td>0.828066</td>\n",
       "      <td>0.433594</td>\n",
       "      <td>1.764420</td>\n",
       "      <td>0.763161</td>\n",
       "    </tr>\n",
       "    <tr>\n",
       "      <th>min</th>\n",
       "      <td>4.300000</td>\n",
       "      <td>2.000000</td>\n",
       "      <td>1.000000</td>\n",
       "      <td>0.100000</td>\n",
       "    </tr>\n",
       "    <tr>\n",
       "      <th>25%</th>\n",
       "      <td>5.100000</td>\n",
       "      <td>2.800000</td>\n",
       "      <td>1.600000</td>\n",
       "      <td>0.300000</td>\n",
       "    </tr>\n",
       "    <tr>\n",
       "      <th>50%</th>\n",
       "      <td>5.800000</td>\n",
       "      <td>3.000000</td>\n",
       "      <td>4.350000</td>\n",
       "      <td>1.300000</td>\n",
       "    </tr>\n",
       "    <tr>\n",
       "      <th>75%</th>\n",
       "      <td>6.400000</td>\n",
       "      <td>3.300000</td>\n",
       "      <td>5.100000</td>\n",
       "      <td>1.800000</td>\n",
       "    </tr>\n",
       "    <tr>\n",
       "      <th>max</th>\n",
       "      <td>7.900000</td>\n",
       "      <td>4.400000</td>\n",
       "      <td>6.900000</td>\n",
       "      <td>2.500000</td>\n",
       "    </tr>\n",
       "  </tbody>\n",
       "</table>\n",
       "</div>"
      ],
      "text/plain": [
       "       sepal_length  sepal_width  petal_length  petal_width\n",
       "count    150.000000   150.000000    150.000000   150.000000\n",
       "mean       5.843333     3.054000      3.758667     1.198667\n",
       "std        0.828066     0.433594      1.764420     0.763161\n",
       "min        4.300000     2.000000      1.000000     0.100000\n",
       "25%        5.100000     2.800000      1.600000     0.300000\n",
       "50%        5.800000     3.000000      4.350000     1.300000\n",
       "75%        6.400000     3.300000      5.100000     1.800000\n",
       "max        7.900000     4.400000      6.900000     2.500000"
      ]
     },
     "execution_count": 6,
     "metadata": {},
     "output_type": "execute_result"
    }
   ],
   "source": [
    "df.describe()"
   ]
  },
  {
   "cell_type": "code",
   "execution_count": 7,
   "metadata": {},
   "outputs": [
    {
     "data": {
      "image/png": "[encoded data removed]",
      "text/plain": [
       "<Figure size 576x576 with 4 Axes>"
      ]
     },
     "metadata": {
      "needs_background": "light"
     },
     "output_type": "display_data"
    }
   ],
   "source": [
    "df.hist(bins=20, figsize=(8,8));"
   ]
  },
  {
   "cell_type": "code",
   "execution_count": 8,
   "metadata": {},
   "outputs": [
    {
     "data": {
      "text/html": [
       "<div>\n",
       "<style scoped>\n",
       "    .dataframe tbody tr th:only-of-type {\n",
       "        vertical-align: middle;\n",
       "    }\n",
       "\n",
       "    .dataframe tbody tr th {\n",
       "        vertical-align: top;\n",
       "    }\n",
       "\n",
       "    .dataframe thead th {\n",
       "        text-align: right;\n",
       "    }\n",
       "</style>\n",
       "<table border=\"1\" class=\"dataframe\">\n",
       "  <thead>\n",
       "    <tr style=\"text-align: right;\">\n",
       "      <th></th>\n",
       "      <th>sepal_length</th>\n",
       "      <th>sepal_width</th>\n",
       "      <th>petal_length</th>\n",
       "      <th>petal_width</th>\n",
       "    </tr>\n",
       "  </thead>\n",
       "  <tbody>\n",
       "    <tr>\n",
       "      <th>sepal_length</th>\n",
       "      <td>1.000000</td>\n",
       "      <td>-0.109369</td>\n",
       "      <td>0.871754</td>\n",
       "      <td>0.817954</td>\n",
       "    </tr>\n",
       "    <tr>\n",
       "      <th>sepal_width</th>\n",
       "      <td>-0.109369</td>\n",
       "      <td>1.000000</td>\n",
       "      <td>-0.420516</td>\n",
       "      <td>-0.356544</td>\n",
       "    </tr>\n",
       "    <tr>\n",
       "      <th>petal_length</th>\n",
       "      <td>0.871754</td>\n",
       "      <td>-0.420516</td>\n",
       "      <td>1.000000</td>\n",
       "      <td>0.962757</td>\n",
       "    </tr>\n",
       "    <tr>\n",
       "      <th>petal_width</th>\n",
       "      <td>0.817954</td>\n",
       "      <td>-0.356544</td>\n",
       "      <td>0.962757</td>\n",
       "      <td>1.000000</td>\n",
       "    </tr>\n",
       "  </tbody>\n",
       "</table>\n",
       "</div>"
      ],
      "text/plain": [
       "              sepal_length  sepal_width  petal_length  petal_width\n",
       "sepal_length      1.000000    -0.109369      0.871754     0.817954\n",
       "sepal_width      -0.109369     1.000000     -0.420516    -0.356544\n",
       "petal_length      0.871754    -0.420516      1.000000     0.962757\n",
       "petal_width       0.817954    -0.356544      0.962757     1.000000"
      ]
     },
     "execution_count": 8,
     "metadata": {},
     "output_type": "execute_result"
    }
   ],
   "source": [
    "df.corr()"
   ]
  },
  {
   "cell_type": "code",
   "execution_count": 9,
   "metadata": {},
   "outputs": [
    {
     "data": {
      "text/html": [
       "<style  type=\"text/css\" >\n",
       "    #T_11273f14_456c_11e9_97b0_48d705bda233row0_col0 {\n",
       "            background-color:  #313695;\n",
       "            color:  #f1f1f1;\n",
       "        }    #T_11273f14_456c_11e9_97b0_48d705bda233row0_col1 {\n",
       "            background-color:  #f67a49;\n",
       "            color:  #000000;\n",
       "        }    #T_11273f14_456c_11e9_97b0_48d705bda233row0_col2 {\n",
       "            background-color:  #436fb1;\n",
       "            color:  #000000;\n",
       "        }    #T_11273f14_456c_11e9_97b0_48d705bda233row0_col3 {\n",
       "            background-color:  #5588be;\n",
       "            color:  #000000;\n",
       "        }    #T_11273f14_456c_11e9_97b0_48d705bda233row1_col0 {\n",
       "            background-color:  #a50026;\n",
       "            color:  #f1f1f1;\n",
       "        }    #T_11273f14_456c_11e9_97b0_48d705bda233row1_col1 {\n",
       "            background-color:  #313695;\n",
       "            color:  #f1f1f1;\n",
       "        }    #T_11273f14_456c_11e9_97b0_48d705bda233row1_col2 {\n",
       "            background-color:  #a50026;\n",
       "            color:  #f1f1f1;\n",
       "        }    #T_11273f14_456c_11e9_97b0_48d705bda233row1_col3 {\n",
       "            background-color:  #a50026;\n",
       "            color:  #f1f1f1;\n",
       "        }    #T_11273f14_456c_11e9_97b0_48d705bda233row2_col0 {\n",
       "            background-color:  #4b7db8;\n",
       "            color:  #000000;\n",
       "        }    #T_11273f14_456c_11e9_97b0_48d705bda233row2_col1 {\n",
       "            background-color:  #a50026;\n",
       "            color:  #f1f1f1;\n",
       "        }    #T_11273f14_456c_11e9_97b0_48d705bda233row2_col2 {\n",
       "            background-color:  #313695;\n",
       "            color:  #f1f1f1;\n",
       "        }    #T_11273f14_456c_11e9_97b0_48d705bda233row2_col3 {\n",
       "            background-color:  #36479e;\n",
       "            color:  #f1f1f1;\n",
       "        }    #T_11273f14_456c_11e9_97b0_48d705bda233row3_col0 {\n",
       "            background-color:  #6399c7;\n",
       "            color:  #000000;\n",
       "        }    #T_11273f14_456c_11e9_97b0_48d705bda233row3_col1 {\n",
       "            background-color:  #bb1526;\n",
       "            color:  #f1f1f1;\n",
       "        }    #T_11273f14_456c_11e9_97b0_48d705bda233row3_col2 {\n",
       "            background-color:  #36459c;\n",
       "            color:  #f1f1f1;\n",
       "        }    #T_11273f14_456c_11e9_97b0_48d705bda233row3_col3 {\n",
       "            background-color:  #313695;\n",
       "            color:  #f1f1f1;\n",
       "        }</style><table id=\"T_11273f14_456c_11e9_97b0_48d705bda233\" ><thead>    <tr>        <th class=\"blank level0\" ></th>        <th class=\"col_heading level0 col0\" >sepal_length</th>        <th class=\"col_heading level0 col1\" >sepal_width</th>        <th class=\"col_heading level0 col2\" >petal_length</th>        <th class=\"col_heading level0 col3\" >petal_width</th>    </tr></thead><tbody>\n",
       "                <tr>\n",
       "                        <th id=\"T_11273f14_456c_11e9_97b0_48d705bda233level0_row0\" class=\"row_heading level0 row0\" >sepal_length</th>\n",
       "                        <td id=\"T_11273f14_456c_11e9_97b0_48d705bda233row0_col0\" class=\"data row0 col0\" >1</td>\n",
       "                        <td id=\"T_11273f14_456c_11e9_97b0_48d705bda233row0_col1\" class=\"data row0 col1\" >-0.109369</td>\n",
       "                        <td id=\"T_11273f14_456c_11e9_97b0_48d705bda233row0_col2\" class=\"data row0 col2\" >0.871754</td>\n",
       "                        <td id=\"T_11273f14_456c_11e9_97b0_48d705bda233row0_col3\" class=\"data row0 col3\" >0.817954</td>\n",
       "            </tr>\n",
       "            <tr>\n",
       "                        <th id=\"T_11273f14_456c_11e9_97b0_48d705bda233level0_row1\" class=\"row_heading level0 row1\" >sepal_width</th>\n",
       "                        <td id=\"T_11273f14_456c_11e9_97b0_48d705bda233row1_col0\" class=\"data row1 col0\" >-0.109369</td>\n",
       "                        <td id=\"T_11273f14_456c_11e9_97b0_48d705bda233row1_col1\" class=\"data row1 col1\" >1</td>\n",
       "                        <td id=\"T_11273f14_456c_11e9_97b0_48d705bda233row1_col2\" class=\"data row1 col2\" >-0.420516</td>\n",
       "                        <td id=\"T_11273f14_456c_11e9_97b0_48d705bda233row1_col3\" class=\"data row1 col3\" >-0.356544</td>\n",
       "            </tr>\n",
       "            <tr>\n",
       "                        <th id=\"T_11273f14_456c_11e9_97b0_48d705bda233level0_row2\" class=\"row_heading level0 row2\" >petal_length</th>\n",
       "                        <td id=\"T_11273f14_456c_11e9_97b0_48d705bda233row2_col0\" class=\"data row2 col0\" >0.871754</td>\n",
       "                        <td id=\"T_11273f14_456c_11e9_97b0_48d705bda233row2_col1\" class=\"data row2 col1\" >-0.420516</td>\n",
       "                        <td id=\"T_11273f14_456c_11e9_97b0_48d705bda233row2_col2\" class=\"data row2 col2\" >1</td>\n",
       "                        <td id=\"T_11273f14_456c_11e9_97b0_48d705bda233row2_col3\" class=\"data row2 col3\" >0.962757</td>\n",
       "            </tr>\n",
       "            <tr>\n",
       "                        <th id=\"T_11273f14_456c_11e9_97b0_48d705bda233level0_row3\" class=\"row_heading level0 row3\" >petal_width</th>\n",
       "                        <td id=\"T_11273f14_456c_11e9_97b0_48d705bda233row3_col0\" class=\"data row3 col0\" >0.817954</td>\n",
       "                        <td id=\"T_11273f14_456c_11e9_97b0_48d705bda233row3_col1\" class=\"data row3 col1\" >-0.356544</td>\n",
       "                        <td id=\"T_11273f14_456c_11e9_97b0_48d705bda233row3_col2\" class=\"data row3 col2\" >0.962757</td>\n",
       "                        <td id=\"T_11273f14_456c_11e9_97b0_48d705bda233row3_col3\" class=\"data row3 col3\" >1</td>\n",
       "            </tr>\n",
       "    </tbody></table>"
      ],
      "text/plain": [
       "<pandas.io.formats.style.Styler at 0x120e4a908>"
      ]
     },
     "execution_count": 9,
     "metadata": {},
     "output_type": "execute_result"
    }
   ],
   "source": [
    "# cmap: https://matplotlib.org/examples/color/colormaps_reference.html\n",
    "df.corr().style.background_gradient(cmap='RdYlBu')"
   ]
  },
  {
   "cell_type": "code",
   "execution_count": 10,
   "metadata": {},
   "outputs": [
    {
     "data": {
      "text/html": [
       "<style  type=\"text/css\" >\n",
       "    #T_113385bc_456c_11e9_97b0_48d705bda233row0_col0 {\n",
       "            background-color:  #006837;\n",
       "            color:  #f1f1f1;\n",
       "        }    #T_113385bc_456c_11e9_97b0_48d705bda233row0_col1 {\n",
       "            background-color:  #f67a49;\n",
       "            color:  #000000;\n",
       "        }    #T_113385bc_456c_11e9_97b0_48d705bda233row0_col2 {\n",
       "            background-color:  #17934e;\n",
       "            color:  #000000;\n",
       "        }    #T_113385bc_456c_11e9_97b0_48d705bda233row0_col3 {\n",
       "            background-color:  #33a456;\n",
       "            color:  #000000;\n",
       "        }    #T_113385bc_456c_11e9_97b0_48d705bda233row1_col0 {\n",
       "            background-color:  #a50026;\n",
       "            color:  #f1f1f1;\n",
       "        }    #T_113385bc_456c_11e9_97b0_48d705bda233row1_col1 {\n",
       "            background-color:  #006837;\n",
       "            color:  #f1f1f1;\n",
       "        }    #T_113385bc_456c_11e9_97b0_48d705bda233row1_col2 {\n",
       "            background-color:  #a50026;\n",
       "            color:  #f1f1f1;\n",
       "        }    #T_113385bc_456c_11e9_97b0_48d705bda233row1_col3 {\n",
       "            background-color:  #a50026;\n",
       "            color:  #f1f1f1;\n",
       "        }    #T_113385bc_456c_11e9_97b0_48d705bda233row2_col0 {\n",
       "            background-color:  #249d53;\n",
       "            color:  #000000;\n",
       "        }    #T_113385bc_456c_11e9_97b0_48d705bda233row2_col1 {\n",
       "            background-color:  #a50026;\n",
       "            color:  #f1f1f1;\n",
       "        }    #T_113385bc_456c_11e9_97b0_48d705bda233row2_col2 {\n",
       "            background-color:  #006837;\n",
       "            color:  #f1f1f1;\n",
       "        }    #T_113385bc_456c_11e9_97b0_48d705bda233row2_col3 {\n",
       "            background-color:  #07753e;\n",
       "            color:  #f1f1f1;\n",
       "        }    #T_113385bc_456c_11e9_97b0_48d705bda233row3_col0 {\n",
       "            background-color:  #4bb05c;\n",
       "            color:  #000000;\n",
       "        }    #T_113385bc_456c_11e9_97b0_48d705bda233row3_col1 {\n",
       "            background-color:  #bb1526;\n",
       "            color:  #f1f1f1;\n",
       "        }    #T_113385bc_456c_11e9_97b0_48d705bda233row3_col2 {\n",
       "            background-color:  #06733d;\n",
       "            color:  #f1f1f1;\n",
       "        }    #T_113385bc_456c_11e9_97b0_48d705bda233row3_col3 {\n",
       "            background-color:  #006837;\n",
       "            color:  #f1f1f1;\n",
       "        }</style><table id=\"T_113385bc_456c_11e9_97b0_48d705bda233\" ><thead>    <tr>        <th class=\"blank level0\" ></th>        <th class=\"col_heading level0 col0\" >sepal_length</th>        <th class=\"col_heading level0 col1\" >sepal_width</th>        <th class=\"col_heading level0 col2\" >petal_length</th>        <th class=\"col_heading level0 col3\" >petal_width</th>    </tr></thead><tbody>\n",
       "                <tr>\n",
       "                        <th id=\"T_113385bc_456c_11e9_97b0_48d705bda233level0_row0\" class=\"row_heading level0 row0\" >sepal_length</th>\n",
       "                        <td id=\"T_113385bc_456c_11e9_97b0_48d705bda233row0_col0\" class=\"data row0 col0\" >1</td>\n",
       "                        <td id=\"T_113385bc_456c_11e9_97b0_48d705bda233row0_col1\" class=\"data row0 col1\" >-0.109369</td>\n",
       "                        <td id=\"T_113385bc_456c_11e9_97b0_48d705bda233row0_col2\" class=\"data row0 col2\" >0.871754</td>\n",
       "                        <td id=\"T_113385bc_456c_11e9_97b0_48d705bda233row0_col3\" class=\"data row0 col3\" >0.817954</td>\n",
       "            </tr>\n",
       "            <tr>\n",
       "                        <th id=\"T_113385bc_456c_11e9_97b0_48d705bda233level0_row1\" class=\"row_heading level0 row1\" >sepal_width</th>\n",
       "                        <td id=\"T_113385bc_456c_11e9_97b0_48d705bda233row1_col0\" class=\"data row1 col0\" >-0.109369</td>\n",
       "                        <td id=\"T_113385bc_456c_11e9_97b0_48d705bda233row1_col1\" class=\"data row1 col1\" >1</td>\n",
       "                        <td id=\"T_113385bc_456c_11e9_97b0_48d705bda233row1_col2\" class=\"data row1 col2\" >-0.420516</td>\n",
       "                        <td id=\"T_113385bc_456c_11e9_97b0_48d705bda233row1_col3\" class=\"data row1 col3\" >-0.356544</td>\n",
       "            </tr>\n",
       "            <tr>\n",
       "                        <th id=\"T_113385bc_456c_11e9_97b0_48d705bda233level0_row2\" class=\"row_heading level0 row2\" >petal_length</th>\n",
       "                        <td id=\"T_113385bc_456c_11e9_97b0_48d705bda233row2_col0\" class=\"data row2 col0\" >0.871754</td>\n",
       "                        <td id=\"T_113385bc_456c_11e9_97b0_48d705bda233row2_col1\" class=\"data row2 col1\" >-0.420516</td>\n",
       "                        <td id=\"T_113385bc_456c_11e9_97b0_48d705bda233row2_col2\" class=\"data row2 col2\" >1</td>\n",
       "                        <td id=\"T_113385bc_456c_11e9_97b0_48d705bda233row2_col3\" class=\"data row2 col3\" >0.962757</td>\n",
       "            </tr>\n",
       "            <tr>\n",
       "                        <th id=\"T_113385bc_456c_11e9_97b0_48d705bda233level0_row3\" class=\"row_heading level0 row3\" >petal_width</th>\n",
       "                        <td id=\"T_113385bc_456c_11e9_97b0_48d705bda233row3_col0\" class=\"data row3 col0\" >0.817954</td>\n",
       "                        <td id=\"T_113385bc_456c_11e9_97b0_48d705bda233row3_col1\" class=\"data row3 col1\" >-0.356544</td>\n",
       "                        <td id=\"T_113385bc_456c_11e9_97b0_48d705bda233row3_col2\" class=\"data row3 col2\" >0.962757</td>\n",
       "                        <td id=\"T_113385bc_456c_11e9_97b0_48d705bda233row3_col3\" class=\"data row3 col3\" >1</td>\n",
       "            </tr>\n",
       "    </tbody></table>"
      ],
      "text/plain": [
       "<pandas.io.formats.style.Styler at 0x1211fa438>"
      ]
     },
     "execution_count": 10,
     "metadata": {},
     "output_type": "execute_result"
    }
   ],
   "source": [
    "df.corr().style.background_gradient(cmap='RdYlGn')"
   ]
  },
  {
   "cell_type": "code",
   "execution_count": 11,
   "metadata": {},
   "outputs": [
    {
     "data": {
      "text/plain": [
       "virginica     50\n",
       "versicolor    50\n",
       "setosa        50\n",
       "Name: label, dtype: int64"
      ]
     },
     "execution_count": 11,
     "metadata": {},
     "output_type": "execute_result"
    }
   ],
   "source": [
    "df['label'].value_counts()"
   ]
  },
  {
   "cell_type": "code",
   "execution_count": 12,
   "metadata": {},
   "outputs": [
    {
     "data": {
      "image/png": "[encoded data removed]",
      "text/plain": [
       "<Figure size 432x288 with 1 Axes>"
      ]
     },
     "metadata": {
      "needs_background": "light"
     },
     "output_type": "display_data"
    }
   ],
   "source": [
    "df['label'].value_counts().plot(kind='bar');"
   ]
  },
  {
   "cell_type": "markdown",
   "metadata": {},
   "source": [
    "### Usando dados apenas das classes setosa e versicolor já que vamos fazer classificação binária"
   ]
  },
  {
   "cell_type": "code",
   "execution_count": 13,
   "metadata": {},
   "outputs": [],
   "source": [
    "df = df[ (df['label'] == 'setosa') | (df['label'] == 'versicolor') ]"
   ]
  },
  {
   "cell_type": "code",
   "execution_count": 14,
   "metadata": {},
   "outputs": [
    {
     "data": {
      "text/plain": [
       "versicolor    50\n",
       "setosa        50\n",
       "Name: label, dtype: int64"
      ]
     },
     "execution_count": 14,
     "metadata": {},
     "output_type": "execute_result"
    }
   ],
   "source": [
    "df['label'].value_counts()"
   ]
  },
  {
   "cell_type": "code",
   "execution_count": 15,
   "metadata": {},
   "outputs": [
    {
     "data": {
      "image/png": "[encoded data removed]",
      "text/plain": [
       "<Figure size 432x288 with 1 Axes>"
      ]
     },
     "metadata": {
      "needs_background": "light"
     },
     "output_type": "display_data"
    }
   ],
   "source": [
    "df['label'].value_counts().plot(kind='bar');"
   ]
  },
  {
   "cell_type": "markdown",
   "metadata": {},
   "source": [
    "### Codificando labels para os valores 1 e -1, respectivamente para setosa e versicolor"
   ]
  },
  {
   "cell_type": "code",
   "execution_count": 16,
   "metadata": {},
   "outputs": [],
   "source": [
    "df['label'] = np.where(df['label'] == 'setosa', 1, -1)"
   ]
  },
  {
   "cell_type": "code",
   "execution_count": 17,
   "metadata": {},
   "outputs": [],
   "source": [
    "data = df.values"
   ]
  },
  {
   "cell_type": "markdown",
   "metadata": {},
   "source": [
    "### Randomização dos dados usando semente (seed)"
   ]
  },
  {
   "cell_type": "code",
   "execution_count": 18,
   "metadata": {},
   "outputs": [],
   "source": [
    "np.random.seed(1)\n",
    "np.random.shuffle(data)"
   ]
  },
  {
   "cell_type": "markdown",
   "metadata": {},
   "source": [
    "### Separação entre features (X) e label (y)"
   ]
  },
  {
   "cell_type": "code",
   "execution_count": 19,
   "metadata": {},
   "outputs": [],
   "source": [
    "X = data[:, :-1]\n",
    "y = data[:, -1]"
   ]
  },
  {
   "cell_type": "code",
   "execution_count": 20,
   "metadata": {},
   "outputs": [
    {
     "data": {
      "text/plain": [
       "array([[5.5, 2.4, 3.8, 1.1],\n",
       "       [5.4, 3. , 4.5, 1.5],\n",
       "       [5.5, 4.2, 1.4, 0.2],\n",
       "       [5.5, 2.4, 3.7, 1. ],\n",
       "       [5. , 2.3, 3.3, 1. ]])"
      ]
     },
     "execution_count": 20,
     "metadata": {},
     "output_type": "execute_result"
    }
   ],
   "source": [
    "X[:5]"
   ]
  },
  {
   "cell_type": "code",
   "execution_count": 21,
   "metadata": {},
   "outputs": [
    {
     "data": {
      "text/plain": [
       "array([-1., -1.,  1., -1., -1.])"
      ]
     },
     "execution_count": 21,
     "metadata": {},
     "output_type": "execute_result"
    }
   ],
   "source": [
    "y[:5]"
   ]
  },
  {
   "cell_type": "markdown",
   "metadata": {},
   "source": [
    "### Usando apenas 10% do dataset para treino"
   ]
  },
  {
   "cell_type": "code",
   "execution_count": 22,
   "metadata": {},
   "outputs": [],
   "source": [
    "n = 10\n",
    "X_train = X[:n]\n",
    "y_train = y[:n]\n",
    "X_test = X[n:]\n",
    "y_test = y[n:]"
   ]
  },
  {
   "cell_type": "markdown",
   "metadata": {},
   "source": [
    "### Calculando médias de matrizes e vetores somente para verificação/checagem"
   ]
  },
  {
   "cell_type": "code",
   "execution_count": 23,
   "metadata": {},
   "outputs": [
    {
     "data": {
      "text/plain": [
       "(3.1449999999999996, -0.4)"
      ]
     },
     "execution_count": 23,
     "metadata": {},
     "output_type": "execute_result"
    }
   ],
   "source": [
    "np.average(X_train), np.average(y_train) "
   ]
  },
  {
   "cell_type": "code",
   "execution_count": 24,
   "metadata": {},
   "outputs": [
    {
     "data": {
      "text/plain": [
       "(3.0427777777777774, 0.044444444444444446)"
      ]
     },
     "execution_count": 24,
     "metadata": {},
     "output_type": "execute_result"
    }
   ],
   "source": [
    "np.average(X_test), np.average(y_test) "
   ]
  },
  {
   "cell_type": "markdown",
   "metadata": {},
   "source": [
    "### Criação, treino e avaliação de modelos usando a métrica acurácia"
   ]
  },
  {
   "cell_type": "code",
   "execution_count": 25,
   "metadata": {},
   "outputs": [
    {
     "data": {
      "text/plain": [
       "0.7666666666666667"
      ]
     },
     "execution_count": 25,
     "metadata": {},
     "output_type": "execute_result"
    }
   ],
   "source": [
    "model = Perceptron(eta=0.01, n_iter=10)\n",
    "model.fit(X_train, y_train)\n",
    "y_pred = model.predict(X_test)\n",
    "accuracy = sum(y_pred == y_test) / y_test.shape[0]\n",
    "accuracy"
   ]
  },
  {
   "cell_type": "code",
   "execution_count": 26,
   "metadata": {},
   "outputs": [
    {
     "data": {
      "text/plain": [
       "0.9777777777777777"
      ]
     },
     "execution_count": 26,
     "metadata": {},
     "output_type": "execute_result"
    }
   ],
   "source": [
    "model = Perceptron(eta=0.015, n_iter=10)\n",
    "model.fit(X_train, y_train)\n",
    "y_pred = model.predict(X_test)\n",
    "accuracy = sum(y_pred == y_test) / y_test.shape[0]\n",
    "accuracy"
   ]
  },
  {
   "cell_type": "code",
   "execution_count": 27,
   "metadata": {},
   "outputs": [
    {
     "data": {
      "text/plain": [
       "1.0"
      ]
     },
     "execution_count": 27,
     "metadata": {},
     "output_type": "execute_result"
    }
   ],
   "source": [
    "model = Perceptron(eta=0.02, n_iter=10)\n",
    "model.fit(X_train, y_train)\n",
    "y_pred = model.predict(X_test)\n",
    "accuracy = sum(y_pred == y_test) / y_test.shape[0]\n",
    "accuracy"
   ]
  },
  {
   "cell_type": "code",
   "execution_count": null,
   "metadata": {},
   "outputs": [],
   "source": []
  }
 ],
 "metadata": {
  "kernelspec": {
   "display_name": "Python 3",
   "language": "python",
   "name": "python3"
  },
  "language_info": {
   "codemirror_mode": {
    "name": "ipython",
    "version": 3
   },
   "file_extension": ".py",
   "mimetype": "text/x-python",
   "name": "python",
   "nbconvert_exporter": "python",
   "pygments_lexer": "ipython3",
   "version": "3.7.2"
  }
 },
 "nbformat": 4,
 "nbformat_minor": 2
}
